{
 "cells": [
  {
   "cell_type": "markdown",
   "metadata": {},
   "source": [
    "### Import Library"
   ]
  },
  {
   "cell_type": "code",
   "execution_count": 1,
   "metadata": {},
   "outputs": [],
   "source": [
    "import pandas as pd\n",
    "import numpy as np\n",
    "import matplotlib.pyplot as plt\n",
    "import seaborn as sns\n",
    "%matplotlib inline\n",
    "\n",
    "from sklearn.model_selection import train_test_split\n",
    "from sklearn.preprocessing import MinMaxScaler\n",
    "from sklearn.ensemble import RandomForestClassifier\n",
    "from sklearn import tree\n",
    "from sklearn.tree import export_graphviz\n",
    "from sklearn.model_selection import cross_val_score\n",
    "from sklearn.metrics import classification_report, confusion_matrix, accuracy_score, roc_auc_score, roc_curve"
   ]
  },
  {
   "cell_type": "markdown",
   "metadata": {},
   "source": [
    "### Read Dataset"
   ]
  },
  {
   "cell_type": "code",
   "execution_count": 2,
   "metadata": {},
   "outputs": [
    {
     "data": {
      "text/html": [
       "<div>\n",
       "<style scoped>\n",
       "    .dataframe tbody tr th:only-of-type {\n",
       "        vertical-align: middle;\n",
       "    }\n",
       "\n",
       "    .dataframe tbody tr th {\n",
       "        vertical-align: top;\n",
       "    }\n",
       "\n",
       "    .dataframe thead th {\n",
       "        text-align: right;\n",
       "    }\n",
       "</style>\n",
       "<table border=\"1\" class=\"dataframe\">\n",
       "  <thead>\n",
       "    <tr style=\"text-align: right;\">\n",
       "      <th></th>\n",
       "      <th>SERVICE</th>\n",
       "      <th>SPORT</th>\n",
       "      <th>DPORT</th>\n",
       "      <th>TTL</th>\n",
       "      <th>IP_LENGTH</th>\n",
       "      <th>IP_CEKSUM</th>\n",
       "      <th>IP_ID</th>\n",
       "      <th>IP_OFF</th>\n",
       "      <th>TCP/UDP/ICMP_LENGTH</th>\n",
       "      <th>PROTOCOL</th>\n",
       "      <th>LABELS</th>\n",
       "    </tr>\n",
       "  </thead>\n",
       "  <tbody>\n",
       "    <tr>\n",
       "      <th>0</th>\n",
       "      <td>1</td>\n",
       "      <td>8801</td>\n",
       "      <td>56911</td>\n",
       "      <td>51</td>\n",
       "      <td>141</td>\n",
       "      <td>55545</td>\n",
       "      <td>19391</td>\n",
       "      <td>16384</td>\n",
       "      <td>121</td>\n",
       "      <td>1</td>\n",
       "      <td>1</td>\n",
       "    </tr>\n",
       "    <tr>\n",
       "      <th>1</th>\n",
       "      <td>1</td>\n",
       "      <td>55308</td>\n",
       "      <td>8801</td>\n",
       "      <td>128</td>\n",
       "      <td>227</td>\n",
       "      <td>63860</td>\n",
       "      <td>46961</td>\n",
       "      <td>0</td>\n",
       "      <td>207</td>\n",
       "      <td>1</td>\n",
       "      <td>0</td>\n",
       "    </tr>\n",
       "    <tr>\n",
       "      <th>2</th>\n",
       "      <td>1</td>\n",
       "      <td>57837</td>\n",
       "      <td>8801</td>\n",
       "      <td>128</td>\n",
       "      <td>295</td>\n",
       "      <td>15459</td>\n",
       "      <td>24846</td>\n",
       "      <td>0</td>\n",
       "      <td>275</td>\n",
       "      <td>1</td>\n",
       "      <td>1</td>\n",
       "    </tr>\n",
       "    <tr>\n",
       "      <th>3</th>\n",
       "      <td>1</td>\n",
       "      <td>8801</td>\n",
       "      <td>56913</td>\n",
       "      <td>51</td>\n",
       "      <td>59</td>\n",
       "      <td>8128</td>\n",
       "      <td>1355</td>\n",
       "      <td>16384</td>\n",
       "      <td>39</td>\n",
       "      <td>1</td>\n",
       "      <td>1</td>\n",
       "    </tr>\n",
       "    <tr>\n",
       "      <th>4</th>\n",
       "      <td>1</td>\n",
       "      <td>57838</td>\n",
       "      <td>8801</td>\n",
       "      <td>128</td>\n",
       "      <td>917</td>\n",
       "      <td>1837</td>\n",
       "      <td>37846</td>\n",
       "      <td>0</td>\n",
       "      <td>897</td>\n",
       "      <td>1</td>\n",
       "      <td>1</td>\n",
       "    </tr>\n",
       "  </tbody>\n",
       "</table>\n",
       "</div>"
      ],
      "text/plain": [
       "   SERVICE  SPORT  DPORT  TTL  IP_LENGTH  IP_CEKSUM  IP_ID  IP_OFF  \\\n",
       "0        1   8801  56911   51        141      55545  19391   16384   \n",
       "1        1  55308   8801  128        227      63860  46961       0   \n",
       "2        1  57837   8801  128        295      15459  24846       0   \n",
       "3        1   8801  56913   51         59       8128   1355   16384   \n",
       "4        1  57838   8801  128        917       1837  37846       0   \n",
       "\n",
       "   TCP/UDP/ICMP_LENGTH  PROTOCOL  LABELS  \n",
       "0                  121         1       1  \n",
       "1                  207         1       0  \n",
       "2                  275         1       1  \n",
       "3                   39         1       1  \n",
       "4                  897         1       1  "
      ]
     },
     "execution_count": 2,
     "metadata": {},
     "output_type": "execute_result"
    }
   ],
   "source": [
    "dataset = pd.read_csv('Alldataset_combined.csv')\n",
    "dataset.head()"
   ]
  },
  {
   "cell_type": "markdown",
   "metadata": {},
   "source": [
    "### Split for Features dan Labels (X and Y)"
   ]
  },
  {
   "cell_type": "code",
   "execution_count": 3,
   "metadata": {},
   "outputs": [],
   "source": [
    "features = dataset.iloc[:, 0:10].values\n",
    "labels = dataset.iloc[:, 10].values"
   ]
  },
  {
   "cell_type": "markdown",
   "metadata": {},
   "source": [
    "### About Labels (Y)\n",
    "1. 0 = 65966 Data (Less)\n",
    "2. 1 = 119030 Data (Good)"
   ]
  },
  {
   "cell_type": "code",
   "execution_count": 4,
   "metadata": {},
   "outputs": [
    {
     "data": {
      "image/png": "[encoded data removed]",
      "text/plain": [
       "<Figure size 360x360 with 1 Axes>"
      ]
     },
     "metadata": {
      "needs_background": "light"
     },
     "output_type": "display_data"
    }
   ],
   "source": [
    "ax = sns.catplot(x='LABELS', kind='count', data=dataset, orient=\"h\")\n",
    "ax.fig.autofmt_xdate()"
   ]
  },
  {
   "cell_type": "markdown",
   "metadata": {},
   "source": [
    "### Split for Training Data and Testing Data"
   ]
  },
  {
   "cell_type": "code",
   "execution_count": 5,
   "metadata": {},
   "outputs": [],
   "source": [
    "train_features, test_features, train_labels, test_labels = train_test_split(features, labels, test_size = 0.2, stratify = labels)"
   ]
  },
  {
   "cell_type": "markdown",
   "metadata": {},
   "source": [
    "### Data Normalization with Scaler (MinMaxScaler)"
   ]
  },
  {
   "cell_type": "code",
   "execution_count": 6,
   "metadata": {},
   "outputs": [],
   "source": [
    "scaler = MinMaxScaler()\n",
    "features_train = scaler.fit_transform(train_features)\n",
    "features_test = scaler.transform(test_features)"
   ]
  },
  {
   "cell_type": "markdown",
   "metadata": {},
   "source": [
    "### Total Data (Training and Testing)"
   ]
  },
  {
   "cell_type": "code",
   "execution_count": 7,
   "metadata": {},
   "outputs": [
    {
     "name": "stdout",
     "output_type": "stream",
     "text": [
      "Training Features Shape: (147996, 10)\n",
      "Training Labels Shape: (147996,)\n",
      "Testing Features Shape: (37000, 10)\n",
      "Testing Labels Shape: (37000,)\n"
     ]
    }
   ],
   "source": [
    "#Jumlah data Training dan data Testing\n",
    "print('Training Features Shape:', train_features.shape)\n",
    "print('Training Labels Shape:', train_labels.shape)\n",
    "print('Testing Features Shape:', test_features.shape)\n",
    "print('Testing Labels Shape:', test_labels.shape)"
   ]
  },
  {
   "cell_type": "markdown",
   "metadata": {},
   "source": [
    "### Random Forest Model"
   ]
  },
  {
   "cell_type": "code",
   "execution_count": 8,
   "metadata": {},
   "outputs": [],
   "source": [
    "rf = RandomForestClassifier(n_estimators = 100, max_depth = 3, criterion =\"gini\")\n",
    "rf.fit(train_features, train_labels)\n",
    "\n",
    "train_predict=rf.predict(train_features)\n",
    "test_predict=rf.predict(test_features)"
   ]
  },
  {
   "cell_type": "markdown",
   "metadata": {},
   "source": [
    "### Confusion Matrix"
   ]
  },
  {
   "cell_type": "code",
   "execution_count": 9,
   "metadata": {},
   "outputs": [],
   "source": [
    "training_predicted = rf.predict(train_features)\n",
    "testing_predicted = rf.predict(test_features)\n",
    "\n",
    "training_cm = confusion_matrix(train_labels,training_predicted.round())\n",
    "testing_cm = confusion_matrix(test_labels,testing_predicted.round())"
   ]
  },
  {
   "cell_type": "markdown",
   "metadata": {},
   "source": [
    "### Result (Output)"
   ]
  },
  {
   "cell_type": "code",
   "execution_count": 10,
   "metadata": {},
   "outputs": [
    {
     "name": "stdout",
     "output_type": "stream",
     "text": [
      "=== Confusion Matrix ===\n",
      "\n",
      "\n",
      "= Training CM =\n",
      "[[47245  5528]\n",
      " [  296 94927]]\n",
      "\n",
      "\n",
      "= Testing CM =\n",
      "[[11815  1378]\n",
      " [   82 23725]]\n",
      "\n",
      "\n",
      "=== Classification Report (Train) ===\n",
      "              precision    recall  f1-score   support\n",
      "\n",
      "           0       0.99      0.90      0.94     52773\n",
      "           1       0.94      1.00      0.97     95223\n",
      "\n",
      "    accuracy                           0.96    147996\n",
      "   macro avg       0.97      0.95      0.96    147996\n",
      "weighted avg       0.96      0.96      0.96    147996\n",
      "\n",
      "\n",
      "\n",
      "=== Classification Report (Test) ===\n",
      "              precision    recall  f1-score   support\n",
      "\n",
      "           0       0.99      0.90      0.94     13193\n",
      "           1       0.95      1.00      0.97     23807\n",
      "\n",
      "    accuracy                           0.96     37000\n",
      "   macro avg       0.97      0.95      0.96     37000\n",
      "weighted avg       0.96      0.96      0.96     37000\n",
      "\n",
      "\n",
      "\n",
      "=== Accuracy Test (Train) ===\n",
      "0.9606475850698668\n",
      "\n",
      "\n",
      "=== Accuracy Test (Test) ===\n",
      "0.9605405405405405\n",
      "\n",
      "\n"
     ]
    }
   ],
   "source": [
    "print(\"=== Confusion Matrix ===\")\n",
    "print('\\n')\n",
    "print(\"= Training CM =\")\n",
    "print(training_cm)\n",
    "print('\\n')\n",
    "print(\"= Testing CM =\")\n",
    "print(testing_cm)\n",
    "print('\\n')\n",
    "print(\"=== Classification Report (Train) ===\")\n",
    "print(classification_report(train_labels, train_predict))\n",
    "print('\\n')\n",
    "print(\"=== Classification Report (Test) ===\")\n",
    "print(classification_report(test_labels, test_predict))\n",
    "print('\\n')\n",
    "print(\"=== Accuracy Test (Train) ===\")\n",
    "print(accuracy_score(train_labels, train_predict))\n",
    "print('\\n')\n",
    "print(\"=== Accuracy Test (Test) ===\")\n",
    "print(accuracy_score(test_labels, test_predict))\n",
    "print('\\n')"
   ]
  }
 ],
 "metadata": {
  "kernelspec": {
   "display_name": "Python 3",
   "language": "python",
   "name": "python3"
  },
  "language_info": {
   "codemirror_mode": {
    "name": "ipython",
    "version": 3
   },
   "file_extension": ".py",
   "mimetype": "text/x-python",
   "name": "python",
   "nbconvert_exporter": "python",
   "pygments_lexer": "ipython3",
   "version": "3.8.5"
  }
 },
 "nbformat": 4,
 "nbformat_minor": 4
}
